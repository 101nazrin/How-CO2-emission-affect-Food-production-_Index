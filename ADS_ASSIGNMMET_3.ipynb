{
 "cells": [
  {
   "cell_type": "markdown",
   "id": "d25f1292",
   "metadata": {},
   "source": [
    "# Assignment 3"
   ]
  },
  {
   "cell_type": "markdown",
   "id": "72bd35b1",
   "metadata": {},
   "source": [
    "# Nazrin Thanikattil Rafeeque(21031314)"
   ]
  },
  {
   "cell_type": "code",
   "execution_count": null,
   "id": "615ee680",
   "metadata": {},
   "outputs": [],
   "source": [
    "import pandas as pd\n",
    "import numpy as np\n",
    "from matplotlib import pyplot as plt\n",
    "import seaborn as sns\n",
    "import scipy.optimize as opt"
   ]
  },
  {
   "cell_type": "code",
   "execution_count": null,
   "id": "16608501",
   "metadata": {},
   "outputs": [],
   "source": [
    "#Reading the dataframe for CO2 emission from csv file\n",
    "df = pd.read_csv(\"C:\\\\Users\\\\hp\\\\Downloads\\\\CO2_emissions.csv\") "
   ]
  },
  {
   "cell_type": "code",
   "execution_count": null,
   "id": "974e083d",
   "metadata": {},
   "outputs": [],
   "source": [
    "#Reading the dataframe for food  production from csv file\n",
    "df_f = pd.read_csv(\"C:\\\\Users\\\\hp\\\\Downloads\\\\Food_production_index.csv\") \n",
    "\n",
    "#snipping the string value and manipulating the column name\n",
    "df_f.columns = df_f.columns.str[:4]\n",
    "Tf = df_f.T\n",
    "Tf.columns = Tf.iloc[0]\n",
    "Tf.drop('Coun',inplace = True)\n",
    "Tf.reset_index(inplace = True)"
   ]
  },
  {
   "cell_type": "code",
   "execution_count": null,
   "id": "49b4f607",
   "metadata": {},
   "outputs": [],
   "source": [
    "def Plotting(Country,exp,scale):\n",
    "    \"\"\"Defining a fuctio for plotting that takes Country name Exponemtail function value from the call\"\"\"\n",
    "    plt.figure()\n",
    "    ax=plt.axes()\n",
    "    ax.set_facecolor('#d6faa2')\n",
    "    plt.plot(Tf['index'],Tf[Country] , label=\"data\",linewidth=5)\n",
    "    plt.plot(Tf['index'], Tf[exp] , label=\"fit\",linewidth=5,color='red')\n",
    "    plt.plot(Tf['index'], Tdf1[Country]*90, label=\"CO2_emissions\",linewidth=5)\n",
    "\n",
    "    plt.legend()\n",
    "    plt.xlabel(\"year\")\n",
    "    plt.ylabel(\"Food production and CO2 emission\")\n",
    "    plt.title(\"Improved start value\")\n",
    "    plt.show()\n"
   ]
  },
  {
   "cell_type": "code",
   "execution_count": null,
   "id": "d2e41bb6",
   "metadata": {},
   "outputs": [],
   "source": [
    "def error(pcov,popt,Country,exp):\n",
    "    \"\"\"Function defining the error occured within the exponentila value estimated w.r.t the actaul value estimates the\n",
    "    lower and upper limit to determine the fitting and the plotting \"\"\"\n",
    "\n",
    "    sigma = np.sqrt(np.diag(pcov))\n",
    "    print(sigma)\n",
    "\n",
    "    low, up = err_ranges(Tf['index'],  exp_growth, popt, sigma)\n",
    "\n",
    "    plt.figure()\n",
    "    plt.title(\"exponential function\")\n",
    "    plt.plot(Tf['index'],Tf[Country], label=\"data\")\n",
    "    plt.plot(Tf['index'], Tf[exp] , label=\"fit\")\n",
    "\n",
    "\n",
    "    plt.fill_between(Tf['index'], low, up, alpha=0.9)\n",
    "    plt.legend()\n",
    "    plt.xlabel(\"year\")\n",
    "    plt.ylabel(\"population\")\n",
    "    plt.show()\n"
   ]
  },
  {
   "cell_type": "code",
   "execution_count": null,
   "id": "0d12a5b1",
   "metadata": {},
   "outputs": [],
   "source": [
    "def data_files(dataframe):\n",
    "    \"\"\"Reading a dataframe and converting into its franspose and return the actual and transposed dataframe\"\"\"\n",
    "    df_1 = df.T\n",
    "    return df , df_1\n",
    "\n"
   ]
  },
  {
   "cell_type": "code",
   "execution_count": null,
   "id": "a1980bd0",
   "metadata": {},
   "outputs": [],
   "source": [
    "def normalise(dataframe_new):\n",
    "    \"\"\"Normalising the datframe values for the clarrity in calculation by determining the min and maximum values and\n",
    "    return the normalised dstsframe\"\"\"\n",
    "    dataframe = dataframe_new.copy()\n",
    "    for col in range(0, len(dataframe.columns)):\n",
    "        max_value = dataframe.iloc[:,col].max()\n",
    "        min_value = dataframe.iloc[:,col].min()\n",
    " \n",
    " \n",
    "        for row in range(0, len(dataframe.index)):\n",
    "            dataframe.iloc[row,col] = (dataframe.iloc[row,col]-min_value)/(max_value-min_value)\n",
    "    return dataframe\n"
   ]
  },
  {
   "cell_type": "markdown",
   "id": "ef18ce2e",
   "metadata": {},
   "source": [
    "## Data Analysis"
   ]
  },
  {
   "cell_type": "code",
   "execution_count": null,
   "id": "c4e6257e",
   "metadata": {},
   "outputs": [],
   "source": [
    "df1,df2=data_files(df)\n",
    "print(df1.isna().sum().sum())\n",
    "\n",
    "#setting the index to country name\n",
    "df1.set_index('Country Name',inplace=True)\n"
   ]
  },
  {
   "cell_type": "code",
   "execution_count": null,
   "id": "b2102153",
   "metadata": {},
   "outputs": [],
   "source": [
    "#Transforming the first row value to column names\n",
    "df2.columns = df2.iloc[0]\n",
    "df2 = df2[1:]\n"
   ]
  },
  {
   "cell_type": "code",
   "execution_count": null,
   "id": "22a8df63",
   "metadata": {},
   "outputs": [],
   "source": [
    "df2.isna().sum().sum()"
   ]
  },
  {
   "cell_type": "code",
   "execution_count": null,
   "id": "f264116f",
   "metadata": {},
   "outputs": [],
   "source": [
    "# calling the Normalise Function\n",
    "df2_norm = normalise(df2)\n",
    "#df1_norm\n",
    "df2_norm"
   ]
  },
  {
   "cell_type": "code",
   "execution_count": null,
   "id": "b03425e8",
   "metadata": {},
   "outputs": [],
   "source": [
    "#normalising the df1 dataframe\n",
    "df1_norm = normalise(df1)\n",
    "\n",
    "df1_norm\n"
   ]
  },
  {
   "cell_type": "code",
   "execution_count": null,
   "id": "317f09d1",
   "metadata": {},
   "outputs": [],
   "source": [
    "#plotting the sns plott to find the possible clusters within selected Groups\n",
    "\n",
    "sns.pairplot(df1_norm[['1990 [YR1990]','1995 [YR1995]','2000 [YR2000]','2005 [YR2005]','2013 [YR2013]','2018 [YR2018]']])\n",
    "sns.pairplot(df2_norm[['Bangladesh','France','Germany']])\n"
   ]
  },
  {
   "cell_type": "markdown",
   "id": "3d25bf6f",
   "metadata": {},
   "source": [
    "# Clustering"
   ]
  },
  {
   "cell_type": "code",
   "execution_count": null,
   "id": "42bafe11",
   "metadata": {},
   "outputs": [],
   "source": [
    "# kmeans set up the clusterer, expecting 5 clusters of CO2 emission,setting randomstate to 0\n",
    "import sklearn.cluster as cluster\n",
    "kmeans = cluster.KMeans(n_clusters=5, n_init=25, max_iter = 600, random_state=0)\n",
    "\n",
    "# extract columns for fitting\n",
    "df1_fit = df1_norm[['2005 [YR2005]', '2018 [YR2018]']].copy()\n",
    "kmeans.fit(df1_fit)     \n",
    "\n",
    "# extract labels\n",
    "labels = kmeans.labels_\n",
    "df1_norm['kmeans_5']=kmeans.labels_\n",
    "\n",
    "#Defining the centroid of the clusters\n",
    "cen = kmeans.cluster_centers_\n",
    "\n",
    "# plot using the labels to select colour\n",
    "plt.figure(figsize=(10,7))\n",
    "\n",
    "#poltting background color and plotting\n",
    "ax=plt.axes()\n",
    "ax.set_facecolor('#C9FFFF')\n",
    "col = [\"blue\", \"red\", \"green\", \"#FFC800\",\"#09FB82\"]\n",
    "\n",
    "for l in range(5):     # loop over the different labels\n",
    "    plt.plot(df1_fit['2005 [YR2005]'][labels==l], df1_fit['2018 [YR2018]'][labels==l], \"o\", markersize=10, color=col[l],label=l)\n",
    "    plt.legend()\n",
    "    \n",
    "     \n",
    "# plotting cluster centres\n",
    "for ic in range(5):\n",
    "    xc, yc = cen[ic,:]\n",
    "    plt.plot(xc, yc,marker='d', markersize=14,color='black')\n",
    "   \n",
    "\n",
    "plt.title('Clustering Plot of CO2 Emission',fontsize=15,fontweight='bold')\n",
    "plt.xlabel('2005 [YR2005]',fontweight='bold')\n",
    "plt.ylabel('2018 [YR2018]',fontweight='bold')\n",
    "\n",
    "plt.show()\n",
    "print(df1_norm['kmeans_5'])\n"
   ]
  },
  {
   "cell_type": "code",
   "execution_count": null,
   "id": "09ac7ef6",
   "metadata": {},
   "outputs": [],
   "source": [
    "Tf.shape"
   ]
  },
  {
   "cell_type": "markdown",
   "id": "83cf0896",
   "metadata": {},
   "source": [
    "Found that there are 5 clusters with different Emission rates"
   ]
  },
  {
   "cell_type": "markdown",
   "id": "bdaa7629",
   "metadata": {},
   "source": [
    "# FITTING"
   ]
  },
  {
   "cell_type": "markdown",
   "id": "f773a65f",
   "metadata": {},
   "source": [
    "Performing fitting by taking the Food Production Index among the prevoius selected countries and do a comparative fitting."
   ]
  },
  {
   "cell_type": "code",
   "execution_count": null,
   "id": "676e3c58",
   "metadata": {},
   "outputs": [],
   "source": [
    "def exp_growth(t, scale, growth):\n",
    "    \"\"\" Computes exponential function with scale and growth as free parameters\n",
    "    \"\"\"\n",
    "    \n",
    "    \n",
    "    f = scale * np.exp(growth * (t-1990)) \n",
    "    \n",
    "    return f\n",
    "\n"
   ]
  },
  {
   "cell_type": "code",
   "execution_count": null,
   "id": "ae08cbf6",
   "metadata": {},
   "outputs": [],
   "source": [
    "#converting the datatypes to float for Exponential Computations\n",
    "print(Tf.dtypes) \n",
    "Tf['index']= Tf['index'].astype(float, errors = 'raise')\n",
    "\n",
    "\n",
    "cols = Tf.select_dtypes(exclude=['float']).columns\n",
    "\n",
    "Tf[cols] = Tf[cols].apply(pd.to_numeric, downcast='float', errors='coerce')\n"
   ]
  },
  {
   "cell_type": "markdown",
   "id": "deb4c12d",
   "metadata": {},
   "source": [
    "## PLotting the CO2 Emissions and Food production Index"
   ]
  },
  {
   "cell_type": "code",
   "execution_count": null,
   "id": "7d6fc0e5",
   "metadata": {},
   "outputs": [],
   "source": [
    "#chosen Ukraine,Bangladesh and Canada for a fruitful  comparison"
   ]
  },
  {
   "cell_type": "code",
   "execution_count": null,
   "id": "8e3f2b35",
   "metadata": {},
   "outputs": [],
   "source": [
    "\n",
    "plt.figure(figsize=(12,7))\n",
    "ax=plt.axes()\n",
    "ax.set_facecolor('#fcfbe9')\n",
    "plt.plot(Tf['index'],Tf['Ukraine'],linewidth=2,color='blue',marker='o',label=\"Ukrine\")\n",
    "plt.plot(Tf['index'],Tf['Bangladesh'] ,linewidth=2,color='red',marker='o',label='Bangladesh')\n",
    "plt.plot(Tf['index'],Tf['Canada'] ,linewidth=2,color='green',marker='o',label='Canada')\n",
    "plt.legend()\n",
    "plt.title('Food Production Index',fontsize=15,fontweight='bold')\n",
    "plt.xlabel('Year',fontweight='bold')\n",
    "plt.xticks( rotation='vertical')\n",
    "plt.ylabel('Food production Index',fontweight='bold')\n"
   ]
  },
  {
   "cell_type": "code",
   "execution_count": null,
   "id": "35afbd59",
   "metadata": {},
   "outputs": [],
   "source": [
    "#slicing the string values in dataframe2 indexes\n",
    "\n",
    "df1.columns = df1.columns.str[:4]\n",
    "Tdf1 = df1.T\n",
    "\n",
    "Tdf1.reset_index(inplace=True)\n",
    "Tdf1.shape"
   ]
  },
  {
   "cell_type": "code",
   "execution_count": null,
   "id": "4b2a3f8c",
   "metadata": {},
   "outputs": [],
   "source": [
    "plt.figure(figsize=(10,7))\n",
    "    \n",
    "ax=plt.axes()\n",
    "ax.set_facecolor('#fffdc6')\n",
    "x = np.arange(len(Tf['index']))\n",
    "width = 0.25\n",
    "#two bar graphs(rects1 and rects2 are plotted)\n",
    "\n",
    "rects1 = plt.bar(x - width / 3, Tdf1['Ukraine'], width,label=\"Ukrine\",\n",
    "                 color='blue',edgecolor='black')\n",
    "rects2 = plt.bar(x + width / 3,Tdf1['Bangladesh'], width,label='Bangladesh',\n",
    "                 color='red',edgecolor='black')\n",
    "rects3 = plt.bar(x - width / 3,Tdf1['Canada'], width,label='Canada',\n",
    "               color='green',edgecolor='black')\n",
    "plt.legend()\n",
    "\n",
    "plt.title('CO2 emissions (kg per PPP $ of GDP) over Years',fontsize=15,fontweight='bold')\n",
    "plt.xlabel('Year')\n",
    "plt.ylabel('CO2 emissions (kg per PPP $ of GDP)')\n"
   ]
  },
  {
   "cell_type": "code",
   "execution_count": null,
   "id": "1518cad6",
   "metadata": {},
   "outputs": [],
   "source": [
    "#defining the sklearn function for finding optimised squared residual and its covarieanceof three chos#en Countries\n",
    "#from 3 different clusters\n",
    "\n",
    "popt1, pcov1 = opt.curve_fit(exp_growth,Tf['index'],Tf['Bangladesh'])\n",
    "popt2, pcov2 = opt.curve_fit(exp_growth,Tf['index'],Tf['Ukraine'])\n",
    "popt3, pcov3 = opt.curve_fit(exp_growth,Tf['index'],Tf['Canada'])"
   ]
  },
  {
   "cell_type": "code",
   "execution_count": null,
   "id": "a1e12c67",
   "metadata": {},
   "outputs": [],
   "source": [
    "print(popt1,popt2,popt3)"
   ]
  },
  {
   "cell_type": "code",
   "execution_count": null,
   "id": "bad92a80",
   "metadata": {},
   "outputs": [],
   "source": [
    "print(pcov1,pcov2,pcov3)"
   ]
  },
  {
   "cell_type": "code",
   "execution_count": null,
   "id": "24aa98be",
   "metadata": {},
   "outputs": [],
   "source": [
    "print(\"Fit parameter\",popt1,popt2)\n",
    "\n",
    "# defining *popt to pass on the fit parameters\n",
    "\n",
    "Tf[\"exp1\"] = exp_growth(Tf['index'], *popt1)\n",
    "Tf[\"exp2\"] = exp_growth(Tf['index'], *popt2)\n",
    "Tf[\"exp3\"] = exp_growth(Tf['index'], *popt3)"
   ]
  },
  {
   "cell_type": "code",
   "execution_count": null,
   "id": "1c98bcc5",
   "metadata": {},
   "outputs": [],
   "source": [
    "#plotting the Exponential curve using the formula to fit the curve\n",
    "\n",
    "Plotting('Ukraine','exp2',50)\n",
    "\n",
    "Plotting('Bangladesh','exp1',50)\n",
    "\n",
    "\n",
    "Plotting('Canada','exp3',50)"
   ]
  },
  {
   "cell_type": "code",
   "execution_count": null,
   "id": "98bf5ac7",
   "metadata": {},
   "outputs": [],
   "source": [
    "#defining the squared residual and trying to the best fit for the model\n",
    "\n",
    "\n",
    "popt2 = [55, .02]\n",
    "Tf[\"exp2\"] = exp_growth(Tf['index'], *popt2)\n",
    "\n",
    "Plotting('Ukraine','exp2',90)\n",
    "\n",
    "\n",
    "popt1 = [55, .02]\n",
    "Tf[\"exp1\"] = exp_growth(Tf['index'], *popt1)\n",
    "Plotting('Bangladesh','exp1',50)\n",
    "\n",
    "\n",
    "popt1 = [55, .02]\n",
    "Tf[\"exp3\"] = exp_growth(Tf['index'], *popt1)\n",
    "Plotting('Canada','exp3',50)\n",
    "\n"
   ]
  },
  {
   "cell_type": "code",
   "execution_count": null,
   "id": "b7e836f9",
   "metadata": {},
   "outputs": [],
   "source": [
    "# fit exponential growth\n",
    "popt2, covar2 = opt.curve_fit(exp_growth,Tf['index'], \n",
    "                            Tf[\"Ukraine\"], p0=[55, 0.02])\n",
    "# much better\n",
    "print(\"Fit parameter of Bangladesh \", popt1)\n",
    "print(\"Fit parameter of ukrine \", popt2)\n",
    "print(\"Fit parameter Canada\", popt3)\n",
    "\n",
    "Tf[\"exp2\"] = exp_growth(Tf['index'], *popt2)\n",
    "\n",
    "Plotting('Ukraine','exp2',50)\n",
    "\n",
    "\n",
    "\n",
    "\n",
    "\n",
    "popt1, covar1 = opt.curve_fit(exp_growth,Tf['index'], \n",
    "                            Tf['Bangladesh'], p0=[55, 0.02])\n",
    "Tf[\"exp1\"] = exp_growth(Tf['index'], *popt1)\n",
    "Plotting('Bangladesh','exp1',50)\n",
    "\n",
    "\n",
    "\n",
    "\n",
    "popt3, covar3 = opt.curve_fit(exp_growth,Tf['index'], \n",
    "                            Tf['Canada'], p0=[55, 0.02])\n",
    "Tf[\"exp3\"] = exp_growth(Tf['index'], *popt3)\n",
    "Plotting('Canada','exp3',50)\n"
   ]
  },
  {
   "cell_type": "code",
   "execution_count": null,
   "id": "c3c6ad7f",
   "metadata": {},
   "outputs": [],
   "source": []
  },
  {
   "cell_type": "code",
   "execution_count": null,
   "id": "08860a5a",
   "metadata": {},
   "outputs": [],
   "source": []
  },
  {
   "cell_type": "code",
   "execution_count": null,
   "id": "6221b0d4",
   "metadata": {},
   "outputs": [],
   "source": []
  },
  {
   "cell_type": "code",
   "execution_count": null,
   "id": "21fd4126",
   "metadata": {},
   "outputs": [],
   "source": []
  },
  {
   "cell_type": "code",
   "execution_count": null,
   "id": "2e2feae0",
   "metadata": {},
   "outputs": [],
   "source": [
    "\n"
   ]
  },
  {
   "cell_type": "code",
   "execution_count": null,
   "id": "d4af33c6",
   "metadata": {},
   "outputs": [],
   "source": []
  },
  {
   "cell_type": "markdown",
   "id": "f09c274c",
   "metadata": {},
   "source": [
    "Predicted the values of upcoming 30 years using the confidence interval"
   ]
  },
  {
   "cell_type": "code",
   "execution_count": null,
   "id": "59cd0564",
   "metadata": {},
   "outputs": [],
   "source": []
  },
  {
   "cell_type": "code",
   "execution_count": null,
   "id": "553ca408",
   "metadata": {},
   "outputs": [],
   "source": []
  },
  {
   "cell_type": "code",
   "execution_count": null,
   "id": "52c6f1a2",
   "metadata": {},
   "outputs": [],
   "source": [
    "print(\"Forcasted Food Production Index in Canada\")\n",
    "low3, up3 = err_ranges(2030, exp_growth, popt3, sigma3)\n",
    "print(\"2030 between \", low3, \"and\", up3)\n",
    "low3, up3 = err_ranges(2040,  exp_growth, popt3, sigma3)\n",
    "print(\"2040 between \", low3, \"and\", up3)\n",
    "low3, up3 = err_ranges(2050,  exp_growth, popt3, sigma3)\n",
    "print(\"2050 between \", low3, \"and\", up3)"
   ]
  },
  {
   "cell_type": "markdown",
   "id": "3f9ba50a",
   "metadata": {},
   "source": [
    "According to the obtained prediction there can be a huge increase in Food production seeing on the current situvation."
   ]
  },
  {
   "cell_type": "markdown",
   "id": "8349dfb7",
   "metadata": {},
   "source": [
    "# END"
   ]
  }
 ],
 "metadata": {
  "kernelspec": {
   "display_name": "Python 3 (ipykernel)",
   "language": "python",
   "name": "python3"
  },
  "language_info": {
   "codemirror_mode": {
    "name": "ipython",
    "version": 3
   },
   "file_extension": ".py",
   "mimetype": "text/x-python",
   "name": "python",
   "nbconvert_exporter": "python",
   "pygments_lexer": "ipython3",
   "version": "3.9.7"
  }
 },
 "nbformat": 4,
 "nbformat_minor": 5
}
